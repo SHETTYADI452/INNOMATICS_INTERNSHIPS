{
 "cells": [
  {
   "cell_type": "markdown",
   "id": "wired-conditions",
   "metadata": {},
   "source": [
    "# Function To Print Duplicate Value and Missing Number"
   ]
  },
  {
   "cell_type": "code",
   "execution_count": 17,
   "id": "virgin-garbage",
   "metadata": {},
   "outputs": [],
   "source": [
    "def duplicate_Values_and_Missing_num(n,arr):\n",
    "    for i in range(1,n):\n",
    "        count=0\n",
    "        for j in arr:\n",
    "            if i == j:\n",
    "                count = count + 1\n",
    "                \n",
    "        if count==2:\n",
    "                print(\"Duplicate Values = {}\".format(i))\n",
    "                dup_val=i           #storing dup values\n",
    "        \n",
    "                \n",
    "    sum_of_First_n_num = n*(n+1)/2             #Sum of first N natural Numbers\n",
    "    sum_arr = 0\n",
    "\n",
    "    for i in arr:\n",
    "        sum_arr += i                           #sum of list index\n",
    "            \n",
    "    sum_arr -= dup_val                        # subtracting dup value from list\n",
    "    \n",
    "\n",
    "    missing_val = int(sum_of_First_n_num - sum_arr)\n",
    "    print(\"Missing Value = \", missing_val)\n"
   ]
  },
  {
   "cell_type": "markdown",
   "id": "determined-birthday",
   "metadata": {},
   "source": [
    "# Driver Program"
   ]
  },
  {
   "cell_type": "code",
   "execution_count": 20,
   "id": "inappropriate-orleans",
   "metadata": {},
   "outputs": [
    {
     "name": "stdout",
     "output_type": "stream",
     "text": [
      "Duplicate Values = 11\n",
      "Missing Value =  6\n"
     ]
    }
   ],
   "source": [
    "arr=[7,3,2,4,8,5,1,11,9,12,10,14,11,13,16,19,15,17,20,18]\n",
    "n=len(arr)                                #size of array\n",
    "duplicate_Values_and_Missing_num(n,arr)   # function call\n"
   ]
  },
  {
   "cell_type": "code",
   "execution_count": null,
   "id": "acceptable-application",
   "metadata": {},
   "outputs": [],
   "source": []
  },
  {
   "cell_type": "code",
   "execution_count": null,
   "id": "protected-raleigh",
   "metadata": {},
   "outputs": [],
   "source": []
  }
 ],
 "metadata": {
  "kernelspec": {
   "display_name": "Python 3",
   "language": "python",
   "name": "python3"
  },
  "language_info": {
   "codemirror_mode": {
    "name": "ipython",
    "version": 3
   },
   "file_extension": ".py",
   "mimetype": "text/x-python",
   "name": "python",
   "nbconvert_exporter": "python",
   "pygments_lexer": "ipython3",
   "version": "3.8.8"
  }
 },
 "nbformat": 4,
 "nbformat_minor": 5
}
